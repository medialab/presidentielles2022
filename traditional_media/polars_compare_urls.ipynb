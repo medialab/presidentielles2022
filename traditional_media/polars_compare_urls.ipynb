{
 "cells": [
  {
   "cell_type": "code",
   "execution_count": 23,
   "id": "a7b58a6a-dc31-4592-8299-bbe8a94d4087",
   "metadata": {
    "tags": []
   },
   "outputs": [],
   "source": [
    "from ural import normalize_url\n",
    "import polars as pl\n",
    "from datetime import datetime"
   ]
  },
  {
   "cell_type": "code",
   "execution_count": 24,
   "id": "041a69b6-00d9-4a59-87d1-d7fa3b2db01c",
   "metadata": {
    "tags": []
   },
   "outputs": [],
   "source": [
    "media_urls = pl.scan_csv(\"corpus mediacloud_Lola_traditional_media.csv\")"
   ]
  },
  {
   "cell_type": "code",
   "execution_count": 25,
   "id": "dfbb0c60-b96c-418e-afb8-183023559ad0",
   "metadata": {
    "tags": []
   },
   "outputs": [],
   "source": [
    "event_start_date = datetime(2022,10,14)"
   ]
  },
  {
   "cell_type": "code",
   "execution_count": 52,
   "id": "421bb3ed-2fe9-42b7-8cb0-349c3c486e52",
   "metadata": {
    "tags": []
   },
   "outputs": [],
   "source": [
    "q1 = (\n",
    "    pl.scan_csv(\"corpus mediacloud_Lola_traditional_media.csv\", try_parse_dates=True)\n",
    "    .with_columns([\n",
    "        pl.col(\"url\").apply(normalize_url, return_dtype=pl.Utf8).alias(\"normalized_url\"),\n",
    "        pl.col(\"language\").str.to_uppercase() # Just to reproduce the user guide\n",
    "    ])\n",
    "    .filter(pl.col(\"publish_date\") > event_start_date)\n",
    ")\n"
   ]
  },
  {
   "cell_type": "code",
   "execution_count": 47,
   "id": "d81f103e-6081-421b-ae2a-40a78e3630fd",
   "metadata": {
    "tags": []
   },
   "outputs": [
    {
     "data": {
      "text/plain": [
       "{'archived_url': Utf8,\n",
       " 'article_url': Utf8,\n",
       " 'id': Int64,\n",
       " 'language': Utf8,\n",
       " 'media_name': Utf8,\n",
       " 'media_url': Utf8,\n",
       " 'publish_date': Datetime(tu='us', tz=None),\n",
       " 'title': Utf8,\n",
       " 'url': Utf8}"
      ]
     },
     "execution_count": 47,
     "metadata": {},
     "output_type": "execute_result"
    }
   ],
   "source": [
    "q1.schema"
   ]
  },
  {
   "cell_type": "code",
   "execution_count": 70,
   "id": "bd1da70c-52ea-4cc8-869e-3cac4488a82c",
   "metadata": {
    "tags": []
   },
   "outputs": [
    {
     "ename": "ImportError",
     "evalue": "Graphviz dot binary should be on your PATH",
     "output_type": "error",
     "traceback": [
      "\u001b[0;31m---------------------------------------------------------------------------\u001b[0m",
      "\u001b[0;31mImportError\u001b[0m                               Traceback (most recent call last)",
      "Cell \u001b[0;32mIn[70], line 1\u001b[0m\n\u001b[0;32m----> 1\u001b[0m \u001b[43mq1\u001b[49m\u001b[38;5;241;43m.\u001b[39;49m\u001b[43mshow_graph\u001b[49m\u001b[43m(\u001b[49m\u001b[43moptimized\u001b[49m\u001b[38;5;241;43m=\u001b[39;49m\u001b[38;5;28;43;01mFalse\u001b[39;49;00m\u001b[43m)\u001b[49m \u001b[38;5;66;03m#Apparently graphviz needs to be installed\u001b[39;00m\n",
      "File \u001b[0;32m~/.pyenv/versions/3.8.2/envs/polarsmedia/lib/python3.8/site-packages/polars/utils/decorators.py:126\u001b[0m, in \u001b[0;36mdeprecate_nonkeyword_arguments.<locals>.decorate.<locals>.wrapper\u001b[0;34m(*args, **kwargs)\u001b[0m\n\u001b[1;32m    124\u001b[0m \u001b[38;5;28;01mif\u001b[39;00m \u001b[38;5;28mlen\u001b[39m(args) \u001b[38;5;241m>\u001b[39m num_allowed_args:\n\u001b[1;32m    125\u001b[0m     warnings\u001b[38;5;241m.\u001b[39mwarn(msg, \u001b[38;5;167;01mDeprecationWarning\u001b[39;00m, stacklevel\u001b[38;5;241m=\u001b[39m\u001b[38;5;241m2\u001b[39m)\n\u001b[0;32m--> 126\u001b[0m \u001b[38;5;28;01mreturn\u001b[39;00m \u001b[43mfunction\u001b[49m\u001b[43m(\u001b[49m\u001b[38;5;241;43m*\u001b[39;49m\u001b[43margs\u001b[49m\u001b[43m,\u001b[49m\u001b[43m \u001b[49m\u001b[38;5;241;43m*\u001b[39;49m\u001b[38;5;241;43m*\u001b[39;49m\u001b[43mkwargs\u001b[49m\u001b[43m)\u001b[49m\n",
      "File \u001b[0;32m~/.pyenv/versions/3.8.2/envs/polarsmedia/lib/python3.8/site-packages/polars/lazyframe/frame.py:1065\u001b[0m, in \u001b[0;36mLazyFrame.show_graph\u001b[0;34m(self, optimized, show, output_path, raw_output, figsize, type_coercion, predicate_pushdown, projection_pushdown, simplify_expression, slice_pushdown, common_subplan_elimination, streaming)\u001b[0m\n\u001b[1;32m   1061\u001b[0m     graph \u001b[38;5;241m=\u001b[39m subprocess\u001b[38;5;241m.\u001b[39mcheck_output(\n\u001b[1;32m   1062\u001b[0m         [\u001b[38;5;124m\"\u001b[39m\u001b[38;5;124mdot\u001b[39m\u001b[38;5;124m\"\u001b[39m, \u001b[38;5;124m\"\u001b[39m\u001b[38;5;124m-Nshape=box\u001b[39m\u001b[38;5;124m\"\u001b[39m, \u001b[38;5;124m\"\u001b[39m\u001b[38;5;124m-T\u001b[39m\u001b[38;5;124m\"\u001b[39m \u001b[38;5;241m+\u001b[39m output_type], \u001b[38;5;28minput\u001b[39m\u001b[38;5;241m=\u001b[39m\u001b[38;5;124mf\u001b[39m\u001b[38;5;124m\"\u001b[39m\u001b[38;5;132;01m{\u001b[39;00mdot\u001b[38;5;132;01m}\u001b[39;00m\u001b[38;5;124m\"\u001b[39m\u001b[38;5;241m.\u001b[39mencode()\n\u001b[1;32m   1063\u001b[0m     )\n\u001b[1;32m   1064\u001b[0m \u001b[38;5;28;01mexcept\u001b[39;00m (\u001b[38;5;167;01mImportError\u001b[39;00m, \u001b[38;5;167;01mFileNotFoundError\u001b[39;00m):\n\u001b[0;32m-> 1065\u001b[0m     \u001b[38;5;28;01mraise\u001b[39;00m \u001b[38;5;167;01mImportError\u001b[39;00m(\u001b[38;5;124m\"\u001b[39m\u001b[38;5;124mGraphviz dot binary should be on your PATH\u001b[39m\u001b[38;5;124m\"\u001b[39m) \u001b[38;5;28;01mfrom\u001b[39;00m \u001b[38;5;28mNone\u001b[39m\n\u001b[1;32m   1067\u001b[0m \u001b[38;5;28;01mif\u001b[39;00m output_path:\n\u001b[1;32m   1068\u001b[0m     \u001b[38;5;28;01mwith\u001b[39;00m Path(output_path)\u001b[38;5;241m.\u001b[39mopen(mode\u001b[38;5;241m=\u001b[39m\u001b[38;5;124m\"\u001b[39m\u001b[38;5;124mwb\u001b[39m\u001b[38;5;124m\"\u001b[39m) \u001b[38;5;28;01mas\u001b[39;00m file:\n",
      "\u001b[0;31mImportError\u001b[0m: Graphviz dot binary should be on your PATH"
     ]
    }
   ],
   "source": [
    "q1.show_graph(optimized=False) #Apparently graphviz needs to be installed"
   ]
  },
  {
   "cell_type": "code",
   "execution_count": 74,
   "id": "35a1e6dd-27e4-4d8a-ae1f-9d871dae423a",
   "metadata": {
    "tags": []
   },
   "outputs": [
    {
     "name": "stdout",
     "output_type": "stream",
     "text": [
      "FILTER [(col(\"publish_date\")) > (1665705600000000.strict_cast(Datetime(Microseconds, None)))] FROM WITH_COLUMNS:\n",
      " [col(\"url\").map_list().alias(\"normalized_url\"), col(\"language\").str.uppercase()]\n",
      "\n",
      "    CSV SCAN corpus mediacloud_Lola_traditional_media.csv\n",
      "    PROJECT */9 COLUMNS\n"
     ]
    },
    {
     "name": "stderr",
     "output_type": "stream",
     "text": [
      "/tmp/ipykernel_205898/3264131641.py:1: DeprecationWarning: `LazyFrame.describe_plan` has been deprecated; Please use `LazyFrame.explain` instead\n",
      "  print(q1.describe_plan()) # Deprecated\n"
     ]
    }
   ],
   "source": [
    "print(q1.describe_plan()) # Deprecated"
   ]
  },
  {
   "cell_type": "code",
   "execution_count": 75,
   "id": "153bea3b-49d7-43ad-b48d-308493df8579",
   "metadata": {
    "tags": []
   },
   "outputs": [
    {
     "name": "stdout",
     "output_type": "stream",
     "text": [
      " WITH_COLUMNS:\n",
      " [col(\"url\").map_list().alias(\"normalized_url\"), col(\"language\").str.uppercase()]\n",
      "\n",
      "    CSV SCAN corpus mediacloud_Lola_traditional_media.csv\n",
      "    PROJECT */9 COLUMNS\n",
      "    SELECTION: [(col(\"publish_date\")) > (2022-10-14 00:00:00)]\n"
     ]
    }
   ],
   "source": [
    "print(q1.explain())"
   ]
  },
  {
   "cell_type": "code",
   "execution_count": 76,
   "id": "d2a9ab7d-11e3-4ef8-b983-d5546b2fad50",
   "metadata": {
    "tags": []
   },
   "outputs": [
    {
     "name": "stdout",
     "output_type": "stream",
     "text": [
      " WITH_COLUMNS:\n",
      " [col(\"url\").map_list().alias(\"normalized_url\"), col(\"language\").str.uppercase()]\n",
      "\n",
      "    CSV SCAN corpus mediacloud_Lola_traditional_media.csv\n",
      "    PROJECT */9 COLUMNS\n",
      "    SELECTION: [(col(\"publish_date\")) > (2022-10-14 00:00:00)]\n"
     ]
    }
   ],
   "source": [
    "print(q1.describe_optimized_plan()) \n",
    "#I don't see the difference: https://pola-rs.github.io/polars-book/user-guide/lazy-api/lazy-query-plan.html#optimized-query-plan"
   ]
  },
  {
   "cell_type": "code",
   "execution_count": 87,
   "id": "a0a32066-21b5-4384-8c8b-9daf049efc37",
   "metadata": {
    "tags": []
   },
   "outputs": [],
   "source": [
    "first_rows = (\n",
    "    pl.scan_csv(\"corpus mediacloud_Lola_traditional_media.csv\", try_parse_dates=True)\n",
    "    .with_columns([\n",
    "        pl.col(\"url\").apply(normalize_url, return_dtype=pl.Utf8).alias(\"normalized_url\"),\n",
    "        pl.col(\"language\").str.to_uppercase() # Just to reproduce the user guide\n",
    "    ])\n",
    "    .filter(pl.col(\"publish_date\") > event_start_date)\n",
    "    .fetch(n_rows=170)\n",
    ")"
   ]
  },
  {
   "cell_type": "code",
   "execution_count": 88,
   "id": "89c9a1d5-4ffe-4cf8-84cb-3c6c703792ac",
   "metadata": {
    "tags": []
   },
   "outputs": [
    {
     "data": {
      "text/html": [
       "<div><style>\n",
       ".dataframe > thead > tr > th,\n",
       ".dataframe > tbody > tr > td {\n",
       "  text-align: right;\n",
       "}\n",
       "</style>\n",
       "<small>shape: (6, 10)</small><table border=\"1\" class=\"dataframe\"><thead><tr><th>archived_url</th><th>article_url</th><th>id</th><th>language</th><th>media_name</th><th>media_url</th><th>publish_date</th><th>title</th><th>url</th><th>normalized_url</th></tr><tr><td>str</td><td>str</td><td>i64</td><td>str</td><td>str</td><td>str</td><td>datetime[μs]</td><td>str</td><td>str</td><td>str</td></tr></thead><tbody><tr><td>&quot;https://web.ar...</td><td>&quot;https://waybac...</td><td>20221017210806</td><td>&quot;FR&quot;</td><td>&quot;bfmtv.com&quot;</td><td>&quot;http://bfmtv.c...</td><td>2022-10-15 00:00:00</td><td>&quot;EN DIRECT - Ru...</td><td>&quot;https://www.bf...</td><td>&quot;bfmtv.com/inte...</td></tr><tr><td>&quot;https://web.ar...</td><td>&quot;https://waybac...</td><td>20221017210808</td><td>&quot;FR&quot;</td><td>&quot;bfmtv.com&quot;</td><td>&quot;http://bfmtv.c...</td><td>2022-10-15 00:00:00</td><td>&quot;Météo: un temp...</td><td>&quot;https://www.bf...</td><td>&quot;bfmtv.com/mete...</td></tr><tr><td>&quot;https://web.ar...</td><td>&quot;https://waybac...</td><td>20221017210809</td><td>&quot;FR&quot;</td><td>&quot;bfmtv.com&quot;</td><td>&quot;http://bfmtv.c...</td><td>2022-10-15 00:00:00</td><td>&quot;Qu’est-ce que ...</td><td>&quot;https://www.bf...</td><td>&quot;bfmtv.com/tech...</td></tr><tr><td>&quot;https://web.ar...</td><td>&quot;https://waybac...</td><td>20221017210811</td><td>&quot;FR&quot;</td><td>&quot;bfmtv.com&quot;</td><td>&quot;http://bfmtv.c...</td><td>2022-10-15 00:00:00</td><td>&quot;Turquie: 28 mo...</td><td>&quot;https://www.bf...</td><td>&quot;bfmtv.com/inte...</td></tr><tr><td>&quot;https://web.ar...</td><td>&quot;https://waybac...</td><td>20221017210833</td><td>&quot;FR&quot;</td><td>&quot;bfmtv.com&quot;</td><td>&quot;http://bfmtv.c...</td><td>2022-10-15 00:00:00</td><td>&quot;Météo Nord-Pas...</td><td>&quot;https://www.bf...</td><td>&quot;bfmtv.com/gran...</td></tr><tr><td>&quot;https://web.ar...</td><td>&quot;https://waybac...</td><td>20221017211009</td><td>&quot;FR&quot;</td><td>&quot;bfmtv.com&quot;</td><td>&quot;http://bfmtv.c...</td><td>2022-10-15 00:00:00</td><td>&quot;Carburants: 27...</td><td>&quot;https://www.bf...</td><td>&quot;bfmtv.com/econ...</td></tr></tbody></table></div>"
      ],
      "text/plain": [
       "shape: (6, 10)\n",
       "┌────────────┬───────────┬──────────┬──────────┬───┬────────────┬──────────┬──────────┬────────────┐\n",
       "│ archived_u ┆ article_u ┆ id       ┆ language ┆ … ┆ publish_da ┆ title    ┆ url      ┆ normalized │\n",
       "│ rl         ┆ rl        ┆ ---      ┆ ---      ┆   ┆ te         ┆ ---      ┆ ---      ┆ _url       │\n",
       "│ ---        ┆ ---       ┆ i64      ┆ str      ┆   ┆ ---        ┆ str      ┆ str      ┆ ---        │\n",
       "│ str        ┆ str       ┆          ┆          ┆   ┆ datetime[μ ┆          ┆          ┆ str        │\n",
       "│            ┆           ┆          ┆          ┆   ┆ s]         ┆          ┆          ┆            │\n",
       "╞════════════╪═══════════╪══════════╪══════════╪═══╪════════════╪══════════╪══════════╪════════════╡\n",
       "│ https://we ┆ https://w ┆ 20221017 ┆ FR       ┆ … ┆ 2022-10-15 ┆ EN       ┆ https:// ┆ bfmtv.com/ │\n",
       "│ b.archive. ┆ ayback-ap ┆ 210806   ┆          ┆   ┆ 00:00:00   ┆ DIRECT - ┆ www.bfmt ┆ internatio │\n",
       "│ org/web/20 ┆ i.archive ┆          ┆          ┆   ┆            ┆ Russie   ┆ v.com/in ┆ nal/asie/r │\n",
       "│ 22…        ┆ .org/…    ┆          ┆          ┆   ┆            ┆          ┆ ternatio ┆ us…        │\n",
       "│            ┆           ┆          ┆          ┆   ┆            ┆          ┆ …        ┆            │\n",
       "│ https://we ┆ https://w ┆ 20221017 ┆ FR       ┆ … ┆ 2022-10-15 ┆ Météo:   ┆ https:// ┆ bfmtv.com/ │\n",
       "│ b.archive. ┆ ayback-ap ┆ 210808   ┆          ┆   ┆ 00:00:00   ┆ un temps ┆ www.bfmt ┆ meteo/mete │\n",
       "│ org/web/20 ┆ i.archive ┆          ┆          ┆   ┆            ┆ nuageux  ┆ v.com/me ┆ o-un-temps │\n",
       "│ 22…        ┆ .org/…    ┆          ┆          ┆   ┆            ┆ mais     ┆ teo/mete ┆ -n…        │\n",
       "│            ┆           ┆          ┆          ┆   ┆            ┆ des…     ┆ …        ┆            │\n",
       "│ https://we ┆ https://w ┆ 20221017 ┆ FR       ┆ … ┆ 2022-10-15 ┆ Qu’est-c ┆ https:// ┆ bfmtv.com/ │\n",
       "│ b.archive. ┆ ayback-ap ┆ 210809   ┆          ┆   ┆ 00:00:00   ┆ e que    ┆ www.bfmt ┆ tech/actua │\n",
       "│ org/web/20 ┆ i.archive ┆          ┆          ┆   ┆            ┆ Lionsgat ┆ v.com/te ┆ lites/stre │\n",
       "│ 22…        ┆ .org/…    ┆          ┆          ┆   ┆            ┆ e+, ce   ┆ ch/actua ┆ am…        │\n",
       "│            ┆           ┆          ┆          ┆   ┆            ┆ ser…     ┆ …        ┆            │\n",
       "│ https://we ┆ https://w ┆ 20221017 ┆ FR       ┆ … ┆ 2022-10-15 ┆ Turquie: ┆ https:// ┆ bfmtv.com/ │\n",
       "│ b.archive. ┆ ayback-ap ┆ 210811   ┆          ┆   ┆ 00:00:00   ┆ 28       ┆ www.bfmt ┆ internatio │\n",
       "│ org/web/20 ┆ i.archive ┆          ┆          ┆   ┆            ┆ morts,   ┆ v.com/in ┆ nal/turqui │\n",
       "│ 22…        ┆ .org/…    ┆          ┆          ┆   ┆            ┆ 15       ┆ ternatio ┆ e-…        │\n",
       "│            ┆           ┆          ┆          ┆   ┆            ┆ mineurs  ┆ …        ┆            │\n",
       "│            ┆           ┆          ┆          ┆   ┆            ┆ en…      ┆          ┆            │\n",
       "│ https://we ┆ https://w ┆ 20221017 ┆ FR       ┆ … ┆ 2022-10-15 ┆ Météo    ┆ https:// ┆ bfmtv.com/ │\n",
       "│ b.archive. ┆ ayback-ap ┆ 210833   ┆          ┆   ┆ 00:00:00   ┆ Nord-Pas ┆ www.bfmt ┆ grand-lill │\n",
       "│ org/web/20 ┆ i.archive ┆          ┆          ┆   ┆            ┆ -de-Cala ┆ v.com/gr ┆ e/meteo/me │\n",
       "│ 22…        ┆ .org/…    ┆          ┆          ┆   ┆            ┆ is: de   ┆ and-lill ┆ te…        │\n",
       "│            ┆           ┆          ┆          ┆   ┆            ┆ bel…     ┆ …        ┆            │\n",
       "│ https://we ┆ https://w ┆ 20221017 ┆ FR       ┆ … ┆ 2022-10-15 ┆ Carburan ┆ https:// ┆ bfmtv.com/ │\n",
       "│ b.archive. ┆ ayback-ap ┆ 211009   ┆          ┆   ┆ 00:00:00   ┆ ts:      ┆ www.bfmt ┆ economie/e │\n",
       "│ org/web/20 ┆ i.archive ┆          ┆          ┆   ┆            ┆ 27,3%    ┆ v.com/ec ┆ conomie-so │\n",
       "│ 22…        ┆ .org/…    ┆          ┆          ┆   ┆            ┆ des stat ┆ onomie/e ┆ ci…        │\n",
       "│            ┆           ┆          ┆          ┆   ┆            ┆ ions-s…  ┆ …        ┆            │\n",
       "└────────────┴───────────┴──────────┴──────────┴───┴────────────┴──────────┴──────────┴────────────┘"
      ]
     },
     "execution_count": 88,
     "metadata": {},
     "output_type": "execute_result"
    }
   ],
   "source": [
    "first_rows"
   ]
  },
  {
   "cell_type": "code",
   "execution_count": 89,
   "id": "a7d28876-0d23-44ef-8f4f-3fd7b24db63d",
   "metadata": {
    "tags": []
   },
   "outputs": [],
   "source": [
    "all_dataset = (\n",
    "    pl.scan_csv(\"corpus mediacloud_Lola_traditional_media.csv\", try_parse_dates=True)\n",
    "    .with_columns([\n",
    "        pl.col(\"url\").apply(normalize_url, return_dtype=pl.Utf8).alias(\"normalized_url\"),\n",
    "        pl.col(\"language\").str.to_uppercase() # Just to reproduce the user guide\n",
    "    ])\n",
    "    .filter(pl.col(\"publish_date\") > event_start_date)\n",
    "    .collect(streaming=True)\n",
    ")"
   ]
  },
  {
   "cell_type": "code",
   "execution_count": 90,
   "id": "dec99090-5294-4405-88f1-58d6f40f33af",
   "metadata": {
    "tags": []
   },
   "outputs": [
    {
     "data": {
      "text/plain": [
       "(6662, 10)"
      ]
     },
     "execution_count": 90,
     "metadata": {},
     "output_type": "execute_result"
    }
   ],
   "source": [
    "all_dataset.shape"
   ]
  }
 ],
 "metadata": {
  "kernelspec": {
   "display_name": "Python 3 (ipykernel)",
   "language": "python",
   "name": "python3"
  },
  "language_info": {
   "codemirror_mode": {
    "name": "ipython",
    "version": 3
   },
   "file_extension": ".py",
   "mimetype": "text/x-python",
   "name": "python",
   "nbconvert_exporter": "python",
   "pygments_lexer": "ipython3",
   "version": "3.8.2"
  }
 },
 "nbformat": 4,
 "nbformat_minor": 5
}
